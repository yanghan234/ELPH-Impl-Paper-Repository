{
 "cells": [
  {
   "cell_type": "markdown",
   "id": "0a06bb37",
   "metadata": {},
   "source": [
    "# This is the entry point of all the scripts and notebooks to post-process the results"
   ]
  },
  {
   "cell_type": "markdown",
   "id": "9d7ea053",
   "metadata": {},
   "source": [
    "## In the main text"
   ]
  },
  {
   "cell_type": "markdown",
   "id": "1b124998",
   "metadata": {},
   "source": [
    "[Table 2](./verification/diamond-6x6x6-convergence/EPCE-Final.ipynb)"
   ]
  },
  {
   "cell_type": "markdown",
   "id": "b620bb32",
   "metadata": {},
   "source": [
    "[Table 3](./verification/diamond-4x4x4-zpr-at-gw/Extract_ZPR.ipynb)"
   ]
  },
  {
   "cell_type": "markdown",
   "id": "179a4db4",
   "metadata": {},
   "source": [
    "[Table 4](./defect/ZPR-of-boron-defect.ipynb)"
   ]
  },
  {
   "cell_type": "markdown",
   "id": "6e7cf15a",
   "metadata": {},
   "source": [
    "[Table 5](./defect/ZPR-of-nitrogen-defect.ipynb)"
   ]
  },
  {
   "cell_type": "markdown",
   "id": "1982ad13",
   "metadata": {},
   "source": [
    "[Figure 1](./verification/diamond-4x4x4-convergence/Temperature_dependent_ZPR-Final.ipynb)"
   ]
  },
  {
   "cell_type": "markdown",
   "id": "b2f26005",
   "metadata": {},
   "source": [
    "Figure 2: Open the two wavefunctions cube files ([Boron defect wfc](./defect/two-B-in-5x5x5-50Ry/center-structure/wfc_K001_B500.cube) and [Nitrogen defect wfc](./defect/two-n-in-5x5x5-50Ry/center-structure/wfc_K001_B501.cube)) in any molecule visulization software you have"
   ]
  },
  {
   "cell_type": "markdown",
   "id": "fb92bf8e",
   "metadata": {},
   "source": [
    "[Figure 3](./defect/two-B-in-5x5x5-50Ry/Mode-Analysis.ipynb)"
   ]
  },
  {
   "cell_type": "markdown",
   "id": "18e5ec41",
   "metadata": {},
   "source": [
    "## In the supplementary information"
   ]
  },
  {
   "cell_type": "markdown",
   "id": "d7afe559",
   "metadata": {},
   "source": [
    "[Figure S1](./verification/diamond-3x3x3-convergence/Phonon_dispersion.ipynb)"
   ]
  },
  {
   "cell_type": "markdown",
   "id": "41fc644d",
   "metadata": {},
   "source": [
    "[Figure S2](./verification/diamond-3x3x3-convergence/Phonon_frequency_differences.ipynb)"
   ]
  }
 ],
 "metadata": {
  "kernelspec": {
   "display_name": "Python 3 (ipykernel)",
   "language": "python",
   "name": "python3"
  },
  "language_info": {
   "codemirror_mode": {
    "name": "ipython",
    "version": 3
   },
   "file_extension": ".py",
   "mimetype": "text/x-python",
   "name": "python",
   "nbconvert_exporter": "python",
   "pygments_lexer": "ipython3",
   "version": "3.9.9"
  }
 },
 "nbformat": 4,
 "nbformat_minor": 5
}
