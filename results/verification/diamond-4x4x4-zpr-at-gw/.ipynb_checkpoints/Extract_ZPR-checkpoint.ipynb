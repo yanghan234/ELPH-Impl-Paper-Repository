{
 "cells": [
  {
   "cell_type": "code",
   "execution_count": 18,
   "metadata": {},
   "outputs": [],
   "source": [
    "import numpy as np\n",
    "import pandas as pd"
   ]
  },
  {
   "cell_type": "code",
   "execution_count": 19,
   "metadata": {},
   "outputs": [],
   "source": [
    "def extract(fmfname,dwfname,ik=1,bands=[4,5]):\n",
    "    df1 = pd.read_csv(fmfname,sep=\"\\\\s+\",skiprows=1,names=[\"ik\",\"ibn\",\"en\",\"re\",\"im\"])\n",
    "    df2 = pd.read_csv(dwfname,sep=\"\\\\s+\",skiprows=1,names=[\"ik\",\"ibn\",\"en\",\"re\",\"im\"])\n",
    "\n",
    "    res = df1[df1[\"ik\"]==ik & df1[\"ibn\"].isin(bands)][\"re\"].values + \\\n",
    "          df2[df2[\"ik\"]==ik & df2[\"ibn\"].isin(bands)][\"re\"].values\n",
    "    \n",
    "    return res[1]-res[0]"
   ]
  },
  {
   "cell_type": "code",
   "execution_count": 20,
   "metadata": {},
   "outputs": [],
   "source": [
    "folders = [ \"c.welph.save.nbnd8.fully\",\n",
    "            \"./60Ry/c.welph.save.nbnd8.lan/\",\n",
    "            \"./60Ry/c.welph.save.nbnd100.lan.curv/\",\n",
    "            \"./60Ry/c.welph.save.nbnd100.lan.nocurv/\",\n",
    "            \"./60Ry/c.welph.save.nbnd100.nolan.nocurv/\",\n",
    "            \"./60Ry/c.welph.save.nbnd100.abinit.ppm/\",]"
   ]
  },
  {
   "cell_type": "code",
   "execution_count": 21,
   "metadata": {},
   "outputs": [
    {
     "name": "stdout",
     "output_type": "stream",
     "text": [
      "./60Ry/c.welph.save.nbnd8.lan/\n",
      "ZPR = -564.68\n",
      "./60Ry/c.welph.save.nbnd100.lan.curv/\n",
      "ZPR = -564.66\n",
      "./60Ry/c.welph.save.nbnd100.lan.nocurv/\n",
      "ZPR = -582.37\n",
      "./60Ry/c.welph.save.nbnd100.nolan.nocurv/\n",
      "ZPR = -608.77\n",
      "./60Ry/c.welph.save.nbnd100.abinit.ppm/\n",
      "ZPR = -619.50\n"
     ]
    }
   ],
   "source": [
    "for folder in folders:\n",
    "    zpr = extract(folder+\"reFMselfen_eqpgw_adi.tab\",folder+\"reDWselfen_eqpgw.tab\")\n",
    "    print(folder)\n",
    "    print(\"ZPR = % 6.2f\"%zpr)"
   ]
  },
  {
   "cell_type": "code",
   "execution_count": 22,
   "metadata": {},
   "outputs": [],
   "source": [
    "folders = [ \"./60Ry-PBE/c.welph.save.nbnd8.lan/\",]\n",
    "#             \"./60Ry/c.welph.save.nbnd100.lan.curv/\",\n",
    "#             \"./60Ry/c.welph.save.nbnd100.lan.nocurv/\",\n",
    "#             \"./60Ry/c.welph.save.nbnd100.nolan.nocurv/\",\n",
    "#             \"./60Ry/c.welph.save.nbnd100.abinit.ppm/\",]"
   ]
  },
  {
   "cell_type": "code",
   "execution_count": 23,
   "metadata": {},
   "outputs": [
    {
     "name": "stdout",
     "output_type": "stream",
     "text": [
      "./60Ry-PBE/c.welph.save.nbnd8.lan/\n",
      "ZPR = -438.87\n"
     ]
    }
   ],
   "source": [
    "for folder in folders:\n",
    "    zpr = extract(folder+\"reFMselfen_DFT_adi.tab\",folder+\"reDWselfen_DFT.tab\")\n",
    "    print(folder)\n",
    "    print(\"ZPR = % 6.2f\"%zpr)"
   ]
  },
  {
   "cell_type": "code",
   "execution_count": null,
   "metadata": {},
   "outputs": [],
   "source": []
  }
 ],
 "metadata": {
  "kernelspec": {
   "display_name": "Python 3",
   "language": "python",
   "name": "python3"
  },
  "language_info": {
   "codemirror_mode": {
    "name": "ipython",
    "version": 3
   },
   "file_extension": ".py",
   "mimetype": "text/x-python",
   "name": "python",
   "nbconvert_exporter": "python",
   "pygments_lexer": "ipython3",
   "version": "3.6.3"
  }
 },
 "nbformat": 4,
 "nbformat_minor": 2
}
