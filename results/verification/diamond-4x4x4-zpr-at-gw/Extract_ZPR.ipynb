{
 "cells": [
  {
   "cell_type": "code",
   "execution_count": 1,
   "metadata": {},
   "outputs": [],
   "source": [
    "import numpy as np\n",
    "import pandas as pd"
   ]
  },
  {
   "cell_type": "code",
   "execution_count": 2,
   "metadata": {},
   "outputs": [],
   "source": [
    "def extract(fmfname,dwfname,ik=1,bands=[4,5]):\n",
    "    df1 = pd.read_csv(fmfname,sep=\"\\\\s+\",skiprows=1,names=[\"ik\",\"ibn\",\"en\",\"re\",\"im\"])\n",
    "    df2 = pd.read_csv(dwfname,sep=\"\\\\s+\",skiprows=1,names=[\"ik\",\"ibn\",\"en\",\"re\",\"im\"])\n",
    "\n",
    "    res = df1[df1[\"ik\"]==ik & df1[\"ibn\"].isin(bands)][\"re\"].values + \\\n",
    "          df2[df2[\"ik\"]==ik & df2[\"ibn\"].isin(bands)][\"re\"].values\n",
    "    \n",
    "    return res[1]-res[0]"
   ]
  },
  {
   "cell_type": "code",
   "execution_count": 3,
   "metadata": {},
   "outputs": [],
   "source": [
    "folders = [ \"./60Ry/c.welph.save.nbnd8.fully/\",\n",
    "            \"./60Ry/c.welph.save.nbnd8.lan/\",\n",
    "            \"./60Ry/c.welph.save.nbnd100.lan.curv/\",\n",
    "            \"./60Ry/c.welph.save.nbnd100.lan.nocurv/\",\n",
    "            \"./60Ry/c.welph.save.nbnd100.nolan.nocurv/\",\n",
    "            \"./60Ry/c.welph.save.nbnd100.abinit.ppm/\",]"
   ]
  },
  {
   "cell_type": "code",
   "execution_count": 4,
   "metadata": {},
   "outputs": [
    {
     "name": "stdout",
     "output_type": "stream",
     "text": [
      "./60Ry/c.welph.save.nbnd8.fully/\n",
      "ZPR = -545.10\n",
      "./60Ry/c.welph.save.nbnd8.lan/\n",
      "ZPR = -545.10\n",
      "./60Ry/c.welph.save.nbnd100.lan.curv/\n",
      "ZPR = -545.07\n",
      "./60Ry/c.welph.save.nbnd100.lan.nocurv/\n",
      "ZPR = -561.62\n",
      "./60Ry/c.welph.save.nbnd100.nolan.nocurv/\n",
      "ZPR = -600.02\n",
      "./60Ry/c.welph.save.nbnd100.abinit.ppm/\n",
      "ZPR = -619.62\n"
     ]
    }
   ],
   "source": [
    "for folder in folders:\n",
    "    zpr = extract(folder+\"reFMselfen_eqpgw_adi.tab\",folder+\"reDWselfen_eqpgw.tab\")\n",
    "    print(folder)\n",
    "    print(\"ZPR = % 6.2f\"%zpr)"
   ]
  },
  {
   "cell_type": "code",
   "execution_count": null,
   "metadata": {},
   "outputs": [],
   "source": []
  }
 ],
 "metadata": {
  "kernelspec": {
   "display_name": "Python 3 (ipykernel)",
   "language": "python",
   "name": "python3"
  },
  "language_info": {
   "codemirror_mode": {
    "name": "ipython",
    "version": 3
   },
   "file_extension": ".py",
   "mimetype": "text/x-python",
   "name": "python",
   "nbconvert_exporter": "python",
   "pygments_lexer": "ipython3",
   "version": "3.9.9"
  }
 },
 "nbformat": 4,
 "nbformat_minor": 2
}
