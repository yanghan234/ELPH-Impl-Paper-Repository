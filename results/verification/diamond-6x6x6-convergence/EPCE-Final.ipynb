{
 "cells": [
  {
   "cell_type": "code",
   "execution_count": 1,
   "metadata": {},
   "outputs": [],
   "source": [
    "import json\n",
    "import numpy as np\n",
    "import pandas as pd\n",
    "# import seaborn as sns\n",
    "import matplotlib.pyplot as plt\n",
    "import matplotlib as mpl\n",
    "# from sklearn.linear_model import LinearRegression\n",
    "mpl.rcParams['figure.dpi']= 200\n",
    "%config InlineBackend.figure_format = 'svg'\n",
    "# plt.rcParams['font.size'] = 15\n",
    "# mpl.rcParams['axes.linewidth'] = 2\n",
    "\n",
    "RYTOEV = 13.605698 # Rydberg to eV\n",
    "ryd2mev = RYTOEV*1000"
   ]
  },
  {
   "cell_type": "code",
   "execution_count": 2,
   "metadata": {},
   "outputs": [],
   "source": [
    "def read_ibz2bz(fname):\n",
    "    m = []\n",
    "    with open(fname,\"r\") as f:\n",
    "        f.readline()\n",
    "        line = f.readline()\n",
    "        while line != \"\":\n",
    "            m.append(int(line.split(',')[1]))\n",
    "            line = f.readline()\n",
    "    return m\n",
    "\n",
    "def load_equivalence(prefix,nqibz):\n",
    "    mappings = []\n",
    "    for iq in range(nqibz):\n",
    "        fname = prefix+\"ibz2bz_%05d.csv\"%(iq+1)\n",
    "        mapping = read_ibz2bz(fname)\n",
    "        mappings.append(mapping)\n",
    "    return mappings"
   ]
  },
  {
   "cell_type": "code",
   "execution_count": 3,
   "metadata": {},
   "outputs": [],
   "source": [
    "# Reference values taken from Ref. 14 of the main text\n",
    "ref_gamma = [ -12.53,  24.83,  -14.23,  -30.93, -20.98,  -16.60,  10.10, -180.55]\n",
    "ref_L     = [ -53.73, 181.28, -273.58, -307.54, -89.36, -220.56, -25.91,  163.19]"
   ]
  },
  {
   "cell_type": "markdown",
   "metadata": {},
   "source": [
    "# EPCE computed with WELPH with Ponce lattice constant"
   ]
  },
  {
   "cell_type": "code",
   "execution_count": 4,
   "metadata": {
    "scrolled": false
   },
   "outputs": [],
   "source": [
    "nqibz = 16\n",
    "nkibz = 16\n",
    "nk = 6**3\n",
    "nq = 6**3\n",
    "fm = pd.read_csv(\"./60Ry-Ponce-latt/c.welph.save.pdep200/EPCE_DFT_FM.tab\",\n",
    "                   skiprows=1,names=[\"ikr\",\"ibn\",\"iq\",\"imode\",\"en\"],sep=\"\\\\s+\")\n",
    "dw = pd.read_csv(\"./60Ry-Ponce-latt/c.welph.save.pdep200/EPCE_DFT_DW.tab\",\n",
    "                   skiprows=1,names=[\"ikr\",\"ibn\",\"iq\",\"imode\",\"en\"],sep=\"\\\\s+\")\n",
    "mappings = load_equivalence(\"./60Ry-Ponce-latt/\",nqibz)"
   ]
  },
  {
   "cell_type": "code",
   "execution_count": null,
   "metadata": {},
   "outputs": [],
   "source": []
  },
  {
   "cell_type": "code",
   "execution_count": 6,
   "metadata": {},
   "outputs": [],
   "source": [
    "## EPCE computed with Ponce lattice structure \n",
    "my_ponce_gamma = []\n",
    "my_ponce_L = []\n",
    "\n",
    "# q = gamma, k = gamma\n",
    "iqibz = 1\n",
    "ikibz = 1\n",
    "filter1 = fm[\"ikr\"] == ikibz\n",
    "filter2 = fm[\"iq\"].isin(mappings[iqibz-1])\n",
    "fmpart = fm[filter1 & filter2]\n",
    "filter3 = dw[\"ikr\"] == ikibz\n",
    "filter4 = dw[\"iq\"].isin(mappings[iqibz-1])\n",
    "dwpart = dw[filter3 & filter4]\n",
    "q_degeneracy = len(mappings[iqibz-1])\n",
    "tmp_df = fmpart.groupby(\"ibn\")[\"en\"].sum()/q_degeneracy+dwpart.groupby(\"ibn\")[\"en\"].sum()/q_degeneracy\n",
    "my_ponce_gamma += [tmp_df.values[0],tmp_df.values[1],tmp_df.values[4],tmp_df.values[7]]\n",
    "\n",
    "# q = gamma, k = L\n",
    "iqibz = 1\n",
    "ikibz = 4\n",
    "filter1 = fm[\"ikr\"] == ikibz\n",
    "filter2 = fm[\"iq\"].isin(mappings[iqibz-1])\n",
    "fmpart = fm[filter1 & filter2]\n",
    "filter3 = dw[\"ikr\"] == ikibz\n",
    "filter4 = dw[\"iq\"].isin(mappings[iqibz-1])\n",
    "dwpart = dw[filter3 & filter4]\n",
    "q_degeneracy = len(mappings[iqibz-1])  \n",
    "tmp_df = fmpart.groupby(\"ibn\")[\"en\"].sum()/q_degeneracy+dwpart.groupby(\"ibn\")[\"en\"].sum()/q_degeneracy\n",
    "my_ponce_gamma += [tmp_df.values[0],tmp_df.values[1],tmp_df.values[3],tmp_df.values[4]]\n",
    "\n",
    "# q = L, k = gamma\n",
    "iqibz = 4\n",
    "ikibz = 1\n",
    "filter1 = fm[\"ikr\"] == ikibz\n",
    "filter2 = fm[\"iq\"].isin(mappings[iqibz-1])\n",
    "fmpart = fm[filter1 & filter2]\n",
    "filter3 = dw[\"ikr\"] == ikibz\n",
    "filter4 = dw[\"iq\"].isin(mappings[iqibz-1])\n",
    "dwpart = dw[filter3 & filter4]\n",
    "q_degeneracy = len(mappings[iqibz-1])\n",
    "tmp_df = fmpart.groupby(\"ibn\")[\"en\"].sum()/q_degeneracy+dwpart.groupby(\"ibn\")[\"en\"].sum()/q_degeneracy\n",
    "my_ponce_L += [tmp_df.values[0],tmp_df.values[1],tmp_df.values[4],tmp_df.values[7]]\n",
    "\n",
    "# q = L, k = L\n",
    "iqibz = 4\n",
    "ikibz = 4\n",
    "filter1 = fm[\"ikr\"] == ikibz\n",
    "filter2 = fm[\"iq\"].isin(mappings[iqibz-1])\n",
    "fmpart = fm[filter1 & filter2]\n",
    "filter3 = dw[\"ikr\"] == ikibz\n",
    "filter4 = dw[\"iq\"].isin(mappings[iqibz-1])\n",
    "dwpart = dw[filter3 & filter4]\n",
    "q_degeneracy = len(mappings[iqibz-1])  \n",
    "tmp_df = fmpart.groupby(\"ibn\")[\"en\"].sum()/q_degeneracy+dwpart.groupby(\"ibn\")[\"en\"].sum()/q_degeneracy\n",
    "my_ponce_L += [tmp_df.values[0],tmp_df.values[1],tmp_df.values[3],tmp_df.values[4]]"
   ]
  },
  {
   "cell_type": "code",
   "execution_count": null,
   "metadata": {},
   "outputs": [],
   "source": []
  },
  {
   "cell_type": "markdown",
   "metadata": {},
   "source": [
    "# EPCE computed with WELPH with my relaxed lattice constant"
   ]
  },
  {
   "cell_type": "code",
   "execution_count": 7,
   "metadata": {
    "scrolled": false
   },
   "outputs": [],
   "source": [
    "nqibz = 16\n",
    "nkibz = 16\n",
    "nk = 6**3\n",
    "nq = 6**3\n",
    "fm = pd.read_csv(\"./60Ry-myrelax/c.welph.save.pdep200/EPCE_DFT_FM.tab\",\n",
    "                   skiprows=1,names=[\"ikr\",\"ibn\",\"iq\",\"imode\",\"en\"],sep=\"\\\\s+\")\n",
    "dw = pd.read_csv(\"./60Ry-myrelax/c.welph.save.pdep200/EPCE_DFT_DW.tab\",\n",
    "                   skiprows=1,names=[\"ikr\",\"ibn\",\"iq\",\"imode\",\"en\"],sep=\"\\\\s+\")\n",
    "mappings = load_equivalence(\"./60Ry-myrelax/\",nqibz)"
   ]
  },
  {
   "cell_type": "code",
   "execution_count": 10,
   "metadata": {},
   "outputs": [],
   "source": [
    "## EPCE computed with my own relaxed lattice structure \n",
    "my_relax_gamma = []\n",
    "my_relax_L = []\n",
    "\n",
    "# q = gamma, k = gamma\n",
    "iqibz = 1\n",
    "ikibz = 1\n",
    "filter1 = fm[\"ikr\"] == ikibz\n",
    "filter2 = fm[\"iq\"].isin(mappings[iqibz-1])\n",
    "fmpart = fm[filter1 & filter2]\n",
    "filter3 = dw[\"ikr\"] == ikibz\n",
    "filter4 = dw[\"iq\"].isin(mappings[iqibz-1])\n",
    "dwpart = dw[filter3 & filter4]\n",
    "q_degeneracy = len(mappings[iqibz-1])\n",
    "tmp_df = fmpart.groupby(\"ibn\")[\"en\"].sum()/q_degeneracy+dwpart.groupby(\"ibn\")[\"en\"].sum()/q_degeneracy\n",
    "my_relax_gamma += [tmp_df.values[0],tmp_df.values[1],tmp_df.values[4],tmp_df.values[7]]\n",
    "\n",
    "# q = gamma, k = L\n",
    "iqibz = 1\n",
    "ikibz = 4\n",
    "filter1 = fm[\"ikr\"] == ikibz\n",
    "filter2 = fm[\"iq\"].isin(mappings[iqibz-1])\n",
    "fmpart = fm[filter1 & filter2]\n",
    "filter3 = dw[\"ikr\"] == ikibz\n",
    "filter4 = dw[\"iq\"].isin(mappings[iqibz-1])\n",
    "dwpart = dw[filter3 & filter4]\n",
    "q_degeneracy = len(mappings[iqibz-1])  \n",
    "tmp_df = fmpart.groupby(\"ibn\")[\"en\"].sum()/q_degeneracy+dwpart.groupby(\"ibn\")[\"en\"].sum()/q_degeneracy\n",
    "my_relax_gamma += [tmp_df.values[0],tmp_df.values[1],tmp_df.values[3],tmp_df.values[4]]\n",
    "\n",
    "# q = L, k = gamma\n",
    "iqibz = 4\n",
    "ikibz = 1\n",
    "filter1 = fm[\"ikr\"] == ikibz\n",
    "filter2 = fm[\"iq\"].isin(mappings[iqibz-1])\n",
    "fmpart = fm[filter1 & filter2]\n",
    "filter3 = dw[\"ikr\"] == ikibz\n",
    "filter4 = dw[\"iq\"].isin(mappings[iqibz-1])\n",
    "dwpart = dw[filter3 & filter4]\n",
    "q_degeneracy = len(mappings[iqibz-1])\n",
    "tmp_df = fmpart.groupby(\"ibn\")[\"en\"].sum()/q_degeneracy+dwpart.groupby(\"ibn\")[\"en\"].sum()/q_degeneracy\n",
    "my_relax_L += [tmp_df.values[0],tmp_df.values[1],tmp_df.values[4],tmp_df.values[7]]\n",
    "\n",
    "# q = L, k = L\n",
    "iqibz = 4\n",
    "ikibz = 4\n",
    "filter1 = fm[\"ikr\"] == ikibz\n",
    "filter2 = fm[\"iq\"].isin(mappings[iqibz-1])\n",
    "fmpart = fm[filter1 & filter2]\n",
    "filter3 = dw[\"ikr\"] == ikibz\n",
    "filter4 = dw[\"iq\"].isin(mappings[iqibz-1])\n",
    "dwpart = dw[filter3 & filter4]\n",
    "q_degeneracy = len(mappings[iqibz-1])  \n",
    "tmp_df = fmpart.groupby(\"ibn\")[\"en\"].sum()/q_degeneracy+dwpart.groupby(\"ibn\")[\"en\"].sum()/q_degeneracy\n",
    "my_relax_L += [tmp_df.values[0],tmp_df.values[1],tmp_df.values[3],tmp_df.values[4]]"
   ]
  },
  {
   "cell_type": "markdown",
   "metadata": {},
   "source": [
    "# Summary of the final results"
   ]
  },
  {
   "cell_type": "code",
   "execution_count": 11,
   "metadata": {},
   "outputs": [
    {
     "name": "stdout",
     "output_type": "stream",
     "text": [
      "  -12.55  -12.84  -12.53\n",
      "   25.13   24.86   24.83\n",
      "  -14.87  -14.88  -14.23\n",
      "  -31.91  -30.86  -30.93\n",
      "  -21.18  -21.54  -20.98\n",
      "  -16.72  -16.91  -16.60\n",
      "   10.14   10.02   10.10\n",
      " -162.66 -182.88 -180.55\n"
     ]
    }
   ],
   "source": [
    "for x, y, z in zip(my_relax_gamma,my_ponce_gamma,ref_gamma):\n",
    "    print(f\"{x:8.2f}{y:8.2f}{z:8.2f}\")"
   ]
  },
  {
   "cell_type": "code",
   "execution_count": 12,
   "metadata": {},
   "outputs": [
    {
     "name": "stdout",
     "output_type": "stream",
     "text": [
      "  -54.47  -55.15  -53.73\n",
      "  186.17  186.71  181.28\n",
      " -273.16 -274.86 -273.58\n",
      " -311.90 -294.70 -307.54\n",
      "  -91.27  -91.96  -89.36\n",
      " -212.64 -224.15 -220.56\n",
      "  -26.88  -27.13  -25.91\n",
      "  163.96  164.07  163.19\n"
     ]
    }
   ],
   "source": [
    "for x, y, z in zip(my_relax_L,my_ponce_L,ref_L):\n",
    "    print(f\"{x:8.2f}{y:8.2f}{z:8.2f}\")"
   ]
  },
  {
   "cell_type": "code",
   "execution_count": 24,
   "metadata": {},
   "outputs": [
    {
     "name": "stdout",
     "output_type": "stream",
     "text": [
      "    2.64    2.10\n",
      "   2.29%   2.13%\n"
     ]
    }
   ],
   "source": [
    "my_relax_mad = np.mean(np.abs(np.array(my_relax_gamma + my_relax_L) - np.array(ref_gamma + ref_L)))\n",
    "my_ponce_mad = np.mean(np.abs(np.array(my_ponce_gamma + my_ponce_L) - np.array(ref_gamma + ref_L)))\n",
    "my_relax_mard = np.mean(np.abs(np.array(my_relax_gamma + my_relax_L)/np.array(ref_gamma + ref_L)-1.0))\n",
    "my_ponce_mard = np.mean(np.abs(np.array(my_ponce_gamma + my_ponce_L)/np.array(ref_gamma + ref_L)-1.0))\n",
    "\n",
    "print(f\"{my_relax_mad:8.2f}{my_ponce_mad:8.2f}\")\n",
    "print(f\"{my_relax_mard*100:7.2f}%{my_ponce_mard*100:7.2f}%\")"
   ]
  }
 ],
 "metadata": {
  "kernelspec": {
   "display_name": "Python 3 (ipykernel)",
   "language": "python",
   "name": "python3"
  },
  "language_info": {
   "codemirror_mode": {
    "name": "ipython",
    "version": 3
   },
   "file_extension": ".py",
   "mimetype": "text/x-python",
   "name": "python",
   "nbconvert_exporter": "python",
   "pygments_lexer": "ipython3",
   "version": "3.9.9"
  }
 },
 "nbformat": 4,
 "nbformat_minor": 2
}
