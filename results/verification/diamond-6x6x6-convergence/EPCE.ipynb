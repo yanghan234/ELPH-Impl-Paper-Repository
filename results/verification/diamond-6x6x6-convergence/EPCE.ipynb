{
 "cells": [
  {
   "cell_type": "code",
   "execution_count": 12,
   "metadata": {},
   "outputs": [],
   "source": [
    "import json\n",
    "import numpy as np\n",
    "import pandas as pd\n",
    "# import seaborn as sns\n",
    "import matplotlib.pyplot as plt\n",
    "import matplotlib as mpl\n",
    "# from sklearn.linear_model import LinearRegression\n",
    "mpl.rcParams['figure.dpi']= 200\n",
    "%config InlineBackend.figure_format = 'svg'\n",
    "# plt.rcParams['font.size'] = 15\n",
    "# mpl.rcParams['axes.linewidth'] = 2\n",
    "\n",
    "RYTOEV = 13.605698 # Rydberg to eV\n",
    "ryd2mev = RYTOEV*1000"
   ]
  },
  {
   "cell_type": "code",
   "execution_count": 13,
   "metadata": {},
   "outputs": [],
   "source": [
    "def read_ibz2bz(fname):\n",
    "    m = []\n",
    "    with open(fname,\"r\") as f:\n",
    "        f.readline()\n",
    "        line = f.readline()\n",
    "        while line != \"\":\n",
    "            m.append(int(line.split(',')[1]))\n",
    "            line = f.readline()\n",
    "    return m\n",
    "\n",
    "def load_equivalence(prefix,nqibz):\n",
    "    mappings = []\n",
    "    for iq in range(nqibz):\n",
    "        fname = prefix+\"ibz2bz_%05d.csv\"%(iq+1)\n",
    "        mapping = read_ibz2bz(fname)\n",
    "        mappings.append(mapping)\n",
    "    return mappings"
   ]
  },
  {
   "cell_type": "markdown",
   "metadata": {},
   "source": [
    "# EPCE computed with WELPH with Ponce lattice constant"
   ]
  },
  {
   "cell_type": "code",
   "execution_count": 14,
   "metadata": {
    "scrolled": false
   },
   "outputs": [],
   "source": [
    "nqibz = 16\n",
    "nkibz = 16\n",
    "nk = 6**3\n",
    "nq = 6**3\n",
    "fm = pd.read_csv(\"./60Ry-Ponce-latt/c.welph.save.pdep200/EPCE_DFT_FM.tab\",\n",
    "                   skiprows=1,names=[\"ikr\",\"ibn\",\"iq\",\"imode\",\"en\"],sep=\"\\\\s+\")\n",
    "dw = pd.read_csv(\"./60Ry-Ponce-latt/c.welph.save.pdep200/EPCE_DFT_DW.tab\",\n",
    "                   skiprows=1,names=[\"ikr\",\"ibn\",\"iq\",\"imode\",\"en\"],sep=\"\\\\s+\")\n",
    "mappings = load_equivalence(\"./60Ry-Ponce-latt/\",nqibz)"
   ]
  },
  {
   "cell_type": "code",
   "execution_count": 15,
   "metadata": {},
   "outputs": [
    {
     "name": "stdout",
     "output_type": "stream",
     "text": [
      "ikibz =    1, iqibz =    1\n",
      "ibn\n",
      "1   -12.838822\n",
      "2    24.862303\n",
      "3    24.862416\n",
      "4    24.862490\n",
      "5   -14.879415\n",
      "6   -14.879730\n",
      "7   -14.877916\n",
      "8   -30.864836\n",
      "Name: en, dtype: float64\n",
      "ikibz =    1, iqibz =    4\n",
      "ibn\n",
      "1    -55.147118\n",
      "2    186.713634\n",
      "3    186.712410\n",
      "4    186.712257\n",
      "5   -274.858591\n",
      "6   -274.859511\n",
      "7   -274.853433\n",
      "8   -294.701784\n",
      "Name: en, dtype: float64\n",
      "ikibz =    4, iqibz =    1\n",
      "ibn\n",
      "1    -21.539568\n",
      "2    -16.912003\n",
      "3     10.023133\n",
      "4     10.023246\n",
      "5   -182.879295\n",
      "6   -182.880274\n",
      "7    365.961169\n",
      "8    -26.443691\n",
      "Name: en, dtype: float64\n",
      "ikibz =    4, iqibz =    4\n",
      "ibn\n",
      "1    -91.960216\n",
      "2   -224.149858\n",
      "3    -27.134306\n",
      "4    -27.134582\n",
      "5    164.072007\n",
      "6    164.073465\n",
      "7   -102.771014\n",
      "8   -202.567719\n",
      "Name: en, dtype: float64\n"
     ]
    }
   ],
   "source": [
    "for ikibz in [1,4]:\n",
    "    for iqibz in [1,4]:\n",
    "        filter1 = fm[\"ikr\"] == ikibz\n",
    "        filter2 = fm[\"iq\"].isin(mappings[iqibz-1])\n",
    "        fmpart = fm[filter1 & filter2]\n",
    "        filter3 = dw[\"ikr\"] == ikibz\n",
    "        filter4 = dw[\"iq\"].isin(mappings[iqibz-1])\n",
    "        dwpart = dw[filter3 & filter4]\n",
    "        q_degeneracy = len(mappings[iqibz-1])\n",
    "        print(\"ikibz = %4d, iqibz = %4d\"%(ikibz,iqibz))\n",
    "#         print(fmpart[fmpart[\"ibn\"]==1])\n",
    "#         print(fmpart.groupby(\"ibn\")[\"en\"].sum()/q_degeneracy)\n",
    "#         print(dwpart.groupby(\"ibn\")[\"en\"].sum()/q_degeneracy)    \n",
    "        print(fmpart.groupby(\"ibn\")[\"en\"].sum()/q_degeneracy+dwpart.groupby(\"ibn\")[\"en\"].sum()/q_degeneracy)"
   ]
  },
  {
   "cell_type": "code",
   "execution_count": 16,
   "metadata": {},
   "outputs": [
    {
     "name": "stdout",
     "output_type": "stream",
     "text": [
      "                  FM        DW     FM+DW\n",
      "       VBM      -993      1120       127\n",
      "       CBM     -1173      1008      -165\n",
      "Direct gap ZPR =       -292\n"
     ]
    }
   ],
   "source": [
    "vbm_fm = fm[np.logical_and(fm[\"ikr\"]==1,fm[\"ibn\"]==4)][\"en\"].sum()/nq\n",
    "vbm_dw = dw[np.logical_and(dw[\"ikr\"]==1,dw[\"ibn\"]==4)][\"en\"].sum()/nq\n",
    "cbm_fm = fm[np.logical_and(fm[\"ikr\"]==1,fm[\"ibn\"]==5)][\"en\"].sum()/nq\n",
    "cbm_dw = dw[np.logical_and(dw[\"ikr\"]==1,dw[\"ibn\"]==5)][\"en\"].sum()/nq\n",
    "\n",
    "print(\"%10s%10s%10s%10s\"%(\"\",\"FM\",\"DW\",\"FM+DW\"))\n",
    "print(\"%10s%10.0f%10.0f%10.0f\"%(\"VBM\",vbm_fm,vbm_dw,vbm_fm+vbm_dw))\n",
    "print(\"%10s%10.0f%10.0f%10.0f\"%(\"CBM\",cbm_fm,cbm_dw,cbm_fm+cbm_dw))\n",
    "print(\"Direct gap ZPR = %10.0f\"%((cbm_fm+cbm_dw)-(vbm_fm+vbm_dw)))"
   ]
  },
  {
   "cell_type": "code",
   "execution_count": null,
   "metadata": {},
   "outputs": [],
   "source": []
  },
  {
   "cell_type": "code",
   "execution_count": null,
   "metadata": {},
   "outputs": [],
   "source": []
  },
  {
   "cell_type": "markdown",
   "metadata": {},
   "source": [
    "# EPCE computed with WELPH with my relaxed lattice constant"
   ]
  },
  {
   "cell_type": "code",
   "execution_count": 17,
   "metadata": {
    "scrolled": false
   },
   "outputs": [],
   "source": [
    "nqibz = 16\n",
    "nkibz = 16\n",
    "nk = 6**3\n",
    "nq = 6**3\n",
    "fm = pd.read_csv(\"./60Ry-myrelax/c.welph.save.pdep200/EPCE_DFT_FM.tab\",\n",
    "                   skiprows=1,names=[\"ikr\",\"ibn\",\"iq\",\"imode\",\"en\"],sep=\"\\\\s+\")\n",
    "dw = pd.read_csv(\"./60Ry-myrelax/c.welph.save.pdep200/EPCE_DFT_DW.tab\",\n",
    "                   skiprows=1,names=[\"ikr\",\"ibn\",\"iq\",\"imode\",\"en\"],sep=\"\\\\s+\")\n",
    "mappings = load_equivalence(\"./60Ry-myrelax/\",nqibz)"
   ]
  },
  {
   "cell_type": "code",
   "execution_count": 18,
   "metadata": {},
   "outputs": [
    {
     "name": "stdout",
     "output_type": "stream",
     "text": [
      "ikibz =    1, iqibz =    1\n",
      "ibn\n",
      "1   -12.547744\n",
      "2    25.134643\n",
      "3    25.134749\n",
      "4    25.134686\n",
      "5   -14.872584\n",
      "6   -14.870677\n",
      "7   -14.871953\n",
      "8   -31.905384\n",
      "Name: en, dtype: float64\n",
      "ikibz =    1, iqibz =    4\n",
      "ibn\n",
      "1    -54.469970\n",
      "2    186.168082\n",
      "3    186.167360\n",
      "4    186.167420\n",
      "5   -273.157455\n",
      "6   -273.154400\n",
      "7   -273.160651\n",
      "8   -311.896046\n",
      "Name: en, dtype: float64\n",
      "ikibz =    4, iqibz =    1\n",
      "ibn\n",
      "1    -21.183050\n",
      "2    -16.724013\n",
      "3     10.137890\n",
      "4     10.138035\n",
      "5   -162.658589\n",
      "6   -162.659740\n",
      "7    324.166263\n",
      "8    -26.746727\n",
      "Name: en, dtype: float64\n",
      "ikibz =    4, iqibz =    4\n",
      "ibn\n",
      "1    -91.272445\n",
      "2   -212.636765\n",
      "3    -26.879784\n",
      "4    -26.879688\n",
      "5    163.955047\n",
      "6    163.954995\n",
      "7   -107.550164\n",
      "8   -191.966405\n",
      "Name: en, dtype: float64\n"
     ]
    }
   ],
   "source": [
    "for ikibz in [1,4]:\n",
    "    for iqibz in [1,4]:\n",
    "        filter1 = fm[\"ikr\"] == ikibz\n",
    "        filter2 = fm[\"iq\"].isin(mappings[iqibz-1])\n",
    "        fmpart = fm[filter1 & filter2]\n",
    "        filter3 = dw[\"ikr\"] == ikibz\n",
    "        filter4 = dw[\"iq\"].isin(mappings[iqibz-1])\n",
    "        dwpart = dw[filter3 & filter4]\n",
    "        q_degeneracy = len(mappings[iqibz-1])\n",
    "        print(\"ikibz = %4d, iqibz = %4d\"%(ikibz,iqibz))\n",
    "#         print(fmpart[fmpart[\"ibn\"]==1])\n",
    "#         print(fmpart.groupby(\"ibn\")[\"en\"].sum()/q_degeneracy)\n",
    "#         print(dwpart.groupby(\"ibn\")[\"en\"].sum()/q_degeneracy)    \n",
    "        print(fmpart.groupby(\"ibn\")[\"en\"].sum()/q_degeneracy+dwpart.groupby(\"ibn\")[\"en\"].sum()/q_degeneracy)"
   ]
  },
  {
   "cell_type": "code",
   "execution_count": 19,
   "metadata": {},
   "outputs": [
    {
     "name": "stdout",
     "output_type": "stream",
     "text": [
      "                  FM        DW     FM+DW\n",
      "       VBM      -987      1114       127\n",
      "       CBM     -1162      1000      -162\n",
      "Direct gap ZPR =       -289\n"
     ]
    }
   ],
   "source": [
    "vbm_fm = fm[np.logical_and(fm[\"ikr\"]==1,fm[\"ibn\"]==4)][\"en\"].sum()/nq\n",
    "vbm_dw = dw[np.logical_and(dw[\"ikr\"]==1,dw[\"ibn\"]==4)][\"en\"].sum()/nq\n",
    "cbm_fm = fm[np.logical_and(fm[\"ikr\"]==1,fm[\"ibn\"]==5)][\"en\"].sum()/nq\n",
    "cbm_dw = dw[np.logical_and(dw[\"ikr\"]==1,dw[\"ibn\"]==5)][\"en\"].sum()/nq\n",
    "\n",
    "print(\"%10s%10s%10s%10s\"%(\"\",\"FM\",\"DW\",\"FM+DW\"))\n",
    "print(\"%10s%10.0f%10.0f%10.0f\"%(\"VBM\",vbm_fm,vbm_dw,vbm_fm+vbm_dw))\n",
    "print(\"%10s%10.0f%10.0f%10.0f\"%(\"CBM\",cbm_fm,cbm_dw,cbm_fm+cbm_dw))\n",
    "print(\"Direct gap ZPR = %10.0f\"%((cbm_fm+cbm_dw)-(vbm_fm+vbm_dw)))"
   ]
  },
  {
   "cell_type": "code",
   "execution_count": null,
   "metadata": {},
   "outputs": [],
   "source": []
  },
  {
   "cell_type": "code",
   "execution_count": null,
   "metadata": {},
   "outputs": [],
   "source": []
  },
  {
   "cell_type": "code",
   "execution_count": null,
   "metadata": {},
   "outputs": [],
   "source": []
  },
  {
   "cell_type": "code",
   "execution_count": null,
   "metadata": {},
   "outputs": [],
   "source": []
  },
  {
   "cell_type": "code",
   "execution_count": null,
   "metadata": {},
   "outputs": [],
   "source": []
  },
  {
   "cell_type": "markdown",
   "metadata": {},
   "source": [
    "# EPCE computed with WELPH with my relaxed lattice constant"
   ]
  },
  {
   "cell_type": "code",
   "execution_count": 20,
   "metadata": {
    "scrolled": false
   },
   "outputs": [],
   "source": [
    "nqibz = 16\n",
    "nkibz = 16\n",
    "nk = 6**3\n",
    "nq = 6**3\n",
    "fm = pd.read_csv(\"./80Ry-myrelax/c.welph.save.pdep200/EPCE_DFT_FM.tab\",\n",
    "                   skiprows=1,names=[\"ikr\",\"ibn\",\"iq\",\"imode\",\"en\"],sep=\"\\\\s+\")\n",
    "dw = pd.read_csv(\"./80Ry-myrelax/c.welph.save.pdep200/EPCE_DFT_DW.tab\",\n",
    "                   skiprows=1,names=[\"ikr\",\"ibn\",\"iq\",\"imode\",\"en\"],sep=\"\\\\s+\")\n",
    "mappings = load_equivalence(\"./80Ry-myrelax/\",nqibz)"
   ]
  },
  {
   "cell_type": "code",
   "execution_count": 21,
   "metadata": {},
   "outputs": [
    {
     "name": "stdout",
     "output_type": "stream",
     "text": [
      "ikibz =    1, iqibz =    1\n",
      "ibn\n",
      "1   -12.708269\n",
      "2    25.194872\n",
      "3    25.199256\n",
      "4    25.198543\n",
      "5   -14.899032\n",
      "6   -14.908917\n",
      "7   -14.907659\n",
      "8   -31.340655\n",
      "Name: en, dtype: float64\n",
      "ikibz =    1, iqibz =    4\n",
      "ibn\n",
      "1    -54.463151\n",
      "2    186.332934\n",
      "3    186.345684\n",
      "4    186.342620\n",
      "5   -273.040716\n",
      "6   -273.076696\n",
      "7   -273.075611\n",
      "8   -308.931955\n",
      "Name: en, dtype: float64\n",
      "ikibz =    4, iqibz =    1\n",
      "ibn\n",
      "1    -21.149150\n",
      "2    -16.694735\n",
      "3     10.147818\n",
      "4     10.147769\n",
      "5   -163.407883\n",
      "6   -163.407697\n",
      "7    325.661416\n",
      "8    -26.222320\n",
      "Name: en, dtype: float64\n",
      "ikibz =    4, iqibz =    4\n",
      "ibn\n",
      "1    -91.077447\n",
      "2   -212.890392\n",
      "3    -26.894574\n",
      "4    -26.894664\n",
      "5    163.713653\n",
      "6    163.718142\n",
      "7   -107.434949\n",
      "8   -190.797668\n",
      "Name: en, dtype: float64\n"
     ]
    }
   ],
   "source": [
    "for ikibz in [1,4]:\n",
    "    for iqibz in [1,4]:\n",
    "        filter1 = fm[\"ikr\"] == ikibz\n",
    "        filter2 = fm[\"iq\"].isin(mappings[iqibz-1])\n",
    "        fmpart = fm[filter1 & filter2]\n",
    "        filter3 = dw[\"ikr\"] == ikibz\n",
    "        filter4 = dw[\"iq\"].isin(mappings[iqibz-1])\n",
    "        dwpart = dw[filter3 & filter4]\n",
    "        q_degeneracy = len(mappings[iqibz-1])\n",
    "        print(\"ikibz = %4d, iqibz = %4d\"%(ikibz,iqibz))\n",
    "#         print(fmpart[fmpart[\"ibn\"]==1])\n",
    "#         print(fmpart.groupby(\"ibn\")[\"en\"].sum()/q_degeneracy)\n",
    "#         print(dwpart.groupby(\"ibn\")[\"en\"].sum()/q_degeneracy)    \n",
    "        print(fmpart.groupby(\"ibn\")[\"en\"].sum()/q_degeneracy+dwpart.groupby(\"ibn\")[\"en\"].sum()/q_degeneracy)"
   ]
  },
  {
   "cell_type": "code",
   "execution_count": null,
   "metadata": {},
   "outputs": [],
   "source": []
  },
  {
   "cell_type": "code",
   "execution_count": null,
   "metadata": {},
   "outputs": [],
   "source": []
  },
  {
   "cell_type": "code",
   "execution_count": null,
   "metadata": {},
   "outputs": [],
   "source": []
  },
  {
   "cell_type": "code",
   "execution_count": null,
   "metadata": {},
   "outputs": [],
   "source": []
  }
 ],
 "metadata": {
  "kernelspec": {
   "display_name": "Python 3 (ipykernel)",
   "language": "python",
   "name": "python3"
  },
  "language_info": {
   "codemirror_mode": {
    "name": "ipython",
    "version": 3
   },
   "file_extension": ".py",
   "mimetype": "text/x-python",
   "name": "python",
   "nbconvert_exporter": "python",
   "pygments_lexer": "ipython3",
   "version": "3.9.9"
  }
 },
 "nbformat": 4,
 "nbformat_minor": 2
}
