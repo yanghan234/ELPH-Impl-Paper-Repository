{
 "cells": [
  {
   "cell_type": "code",
   "execution_count": 1,
   "metadata": {},
   "outputs": [],
   "source": [
    "import json\n",
    "import numpy as np\n",
    "import pandas as pd\n",
    "import seaborn as sns\n",
    "import matplotlib.pyplot as plt\n",
    "import matplotlib as mpl\n",
    "# from sklearn.linear_model import LinearRegression\n",
    "mpl.rcParams['figure.dpi']= 200\n",
    "%config InlineBackend.figure_format = 'svg'\n",
    "# plt.rcParams['font.size'] = 15\n",
    "# mpl.rcParams['axes.linewidth'] = 2\n",
    "\n",
    "RYTOEV = 13.605698 # Rydberg to eV\n",
    "ryd2mev = RYTOEV*1000"
   ]
  },
  {
   "cell_type": "code",
   "execution_count": null,
   "metadata": {},
   "outputs": [],
   "source": [
    "def load_equivalence(fname,):\n",
    "    for i"
   ]
  },
  {
   "cell_type": "markdown",
   "metadata": {},
   "source": [
    "# EPCE computed with WELPH"
   ]
  },
  {
   "cell_type": "code",
   "execution_count": 2,
   "metadata": {
    "scrolled": false
   },
   "outputs": [],
   "source": [
    "fm = pd.read_csv(\"./60Ry/c.welph.save.pdep200/EPCE_DFT_FM.tab\",\n",
    "                   skiprows=2,names=[\"ikr\",\"ibn\",\"iq\",\"imode\",\"en\"],sep=\"\\\\s+\")\n",
    "dw = pd.read_csv(\"./60Ry/c.welph.save.pdep200/EPCE_DFT_DW.tab\",\n",
    "                   skiprows=2,names=[\"ikr\",\"ibn\",\"iq\",\"imode\",\"en\"],sep=\"\\\\s+\")"
   ]
  },
  {
   "cell_type": "code",
   "execution_count": 3,
   "metadata": {},
   "outputs": [
    {
     "data": {
      "text/html": [
       "<div>\n",
       "<style scoped>\n",
       "    .dataframe tbody tr th:only-of-type {\n",
       "        vertical-align: middle;\n",
       "    }\n",
       "\n",
       "    .dataframe tbody tr th {\n",
       "        vertical-align: top;\n",
       "    }\n",
       "\n",
       "    .dataframe thead th {\n",
       "        text-align: right;\n",
       "    }\n",
       "</style>\n",
       "<table border=\"1\" class=\"dataframe\">\n",
       "  <thead>\n",
       "    <tr style=\"text-align: right;\">\n",
       "      <th></th>\n",
       "      <th>ikr</th>\n",
       "      <th>ibn</th>\n",
       "      <th>iq</th>\n",
       "      <th>imode</th>\n",
       "      <th>en</th>\n",
       "    </tr>\n",
       "  </thead>\n",
       "  <tbody>\n",
       "    <tr>\n",
       "      <th>0</th>\n",
       "      <td>1</td>\n",
       "      <td>1</td>\n",
       "      <td>1</td>\n",
       "      <td>2</td>\n",
       "      <td>0.000000</td>\n",
       "    </tr>\n",
       "    <tr>\n",
       "      <th>1</th>\n",
       "      <td>1</td>\n",
       "      <td>1</td>\n",
       "      <td>1</td>\n",
       "      <td>3</td>\n",
       "      <td>0.000000</td>\n",
       "    </tr>\n",
       "    <tr>\n",
       "      <th>2</th>\n",
       "      <td>1</td>\n",
       "      <td>1</td>\n",
       "      <td>1</td>\n",
       "      <td>4</td>\n",
       "      <td>-29.104288</td>\n",
       "    </tr>\n",
       "    <tr>\n",
       "      <th>3</th>\n",
       "      <td>1</td>\n",
       "      <td>1</td>\n",
       "      <td>1</td>\n",
       "      <td>5</td>\n",
       "      <td>-29.104288</td>\n",
       "    </tr>\n",
       "    <tr>\n",
       "      <th>4</th>\n",
       "      <td>1</td>\n",
       "      <td>1</td>\n",
       "      <td>1</td>\n",
       "      <td>6</td>\n",
       "      <td>-29.104288</td>\n",
       "    </tr>\n",
       "  </tbody>\n",
       "</table>\n",
       "</div>"
      ],
      "text/plain": [
       "   ikr  ibn  iq  imode         en\n",
       "0    1    1   1      2   0.000000\n",
       "1    1    1   1      3   0.000000\n",
       "2    1    1   1      4 -29.104288\n",
       "3    1    1   1      5 -29.104288\n",
       "4    1    1   1      6 -29.104288"
      ]
     },
     "execution_count": 3,
     "metadata": {},
     "output_type": "execute_result"
    }
   ],
   "source": [
    "fm.head()"
   ]
  },
  {
   "cell_type": "code",
   "execution_count": null,
   "metadata": {},
   "outputs": [],
   "source": []
  },
  {
   "cell_type": "code",
   "execution_count": 3,
   "metadata": {},
   "outputs": [
    {
     "name": "stdout",
     "output_type": "stream",
     "text": [
      "ibn =    1, FM =   -31.7851, DW =    19.4116, FM+DW =   -12.3735\n",
      "ibn =    2, FM =  -342.8357, DW =   367.4162, FM+DW =    24.5805\n",
      "ibn =    3, FM =  -342.8357, DW =   367.4162, FM+DW =    24.5805\n",
      "ibn =    4, FM =  -342.8357, DW =   367.4162, FM+DW =    24.5805\n",
      "ibn =    5, FM =  -344.2441, DW =   329.6343, FM+DW =   -14.6098\n",
      "ibn =    6, FM =  -344.2441, DW =   329.6344, FM+DW =   -14.6096\n",
      "ibn =    7, FM =  -344.2441, DW =   329.6364, FM+DW =   -14.6076\n",
      "ibn =    8, FM =   -51.0688, DW =    19.8978, FM+DW =   -31.1710\n"
     ]
    }
   ],
   "source": [
    "df1 = pd.DataFrame()\n",
    "\n",
    "#### k = Gamma, index of q = 1, q = Gamma\n",
    "q_selection = ( (fm[\"iq\"]==1) )\n",
    "q_degeneracy = 1\n",
    "for ibn in range(1,9):\n",
    "    thisfm = fm[(fm[\"ikr\"]==1) & ( q_selection ) & (fm[\"ibn\"]==ibn)][\"en\"].sum() / q_degeneracy\n",
    "    thisdw = dw[(dw[\"ikr\"]==1) & ( q_selection ) & (dw[\"ibn\"]==ibn)][\"en\"].sum() / q_degeneracy\n",
    "    print(\"ibn = %4d, FM = %10.4f, DW = %10.4f, FM+DW = %10.4f\"%(ibn,thisfm,thisdw,thisfm+thisdw))\n",
    "    df1 = df1.append({'ikr':1,'iq':1,'ibn':ibn,'FM':thisfm,'DW':thisdw,'weight':q_degeneracy},ignore_index=True,)"
   ]
  },
  {
   "cell_type": "code",
   "execution_count": 4,
   "metadata": {},
   "outputs": [
    {
     "name": "stdout",
     "output_type": "stream",
     "text": [
      "ibn =    1, FM =  -159.8808, DW =    75.1374, FM+DW =   -84.7434\n",
      "ibn =    2, FM = -1075.9360, DW =  1422.1750, FM+DW =   346.2391\n",
      "ibn =    3, FM = -1075.9359, DW =  1422.1751, FM+DW =   346.2392\n",
      "ibn =    4, FM = -1075.9359, DW =  1422.1750, FM+DW =   346.2391\n",
      "ibn =    5, FM = -1613.7656, DW =  1275.9310, FM+DW =  -337.8346\n",
      "ibn =    6, FM = -1613.7655, DW =  1275.9315, FM+DW =  -337.8340\n",
      "ibn =    7, FM = -1613.7656, DW =  1275.9393, FM+DW =  -337.8263\n",
      "ibn =    8, FM =  -412.4449, DW =    77.0193, FM+DW =  -335.4256\n"
     ]
    }
   ],
   "source": [
    "#### k = Gamma, index of q = 2\n",
    "q_degeneracy = 8\n",
    "q_selection = ( (fm[\"iq\"]==2) | (fm[\"iq\"]==64) | (fm[\"iq\"]==5) | (fm[\"iq\"]==17) | \n",
    "                (fm[\"iq\"]==4) | (fm[\"iq\"]==22) | (fm[\"iq\"]==13) | (fm[\"iq\"]==49) )\n",
    "for ibn in range(1,9):\n",
    "    thisfm = fm[(fm[\"ikr\"]==1) & ( q_selection ) & (fm[\"ibn\"]==ibn)][\"en\"].sum() / q_degeneracy\n",
    "    thisdw = dw[(dw[\"ikr\"]==1) & ( q_selection ) & (dw[\"ibn\"]==ibn)][\"en\"].sum() / q_degeneracy\n",
    "    print(\"ibn = %4d, FM = %10.4f, DW = %10.4f, FM+DW = %10.4f\"%(ibn,thisfm,thisdw,thisfm+thisdw))\n",
    "    df1 = df1.append({'ikr':1,'iq':2,'ibn':ibn,'FM':thisfm,'DW':thisdw,'weight':q_degeneracy},ignore_index=True,)"
   ]
  },
  {
   "cell_type": "code",
   "execution_count": 5,
   "metadata": {},
   "outputs": [
    {
     "name": "stdout",
     "output_type": "stream",
     "text": [
      "ibn =    1, FM = -1042.5090, DW =    60.8902, FM+DW =  -981.6188\n",
      "ibn =    2, FM =  -723.6705, DW =  1152.5086, FM+DW =   428.8380\n",
      "ibn =    3, FM =  -723.6705, DW =  1152.5086, FM+DW =   428.8381\n",
      "ibn =    4, FM =  -723.6706, DW =  1152.5085, FM+DW =   428.8380\n",
      "ibn =    5, FM = -1594.7646, DW =  1033.9947, FM+DW =  -560.7699\n",
      "ibn =    6, FM = -1594.7645, DW =  1033.9951, FM+DW =  -560.7694\n",
      "ibn =    7, FM = -1594.7646, DW =  1034.0014, FM+DW =  -560.7632\n",
      "ibn =    8, FM =  -707.8234, DW =    62.4152, FM+DW =  -645.4081\n"
     ]
    }
   ],
   "source": [
    "#### k = Gamma, index of q = 3, q = L\n",
    "q_degeneracy = 4\n",
    "q_selection = ( (fm[\"iq\"]==3) | (fm[\"iq\"]==43) | (fm[\"iq\"]==9) | (fm[\"iq\"]==33) )\n",
    "for ibn in range(1,9):\n",
    "    thisfm = fm[(fm[\"ikr\"]==1) & ( q_selection ) & (fm[\"ibn\"]==ibn)][\"en\"].sum() / q_degeneracy\n",
    "    thisdw = dw[(dw[\"ikr\"]==1) & ( q_selection ) & (dw[\"ibn\"]==ibn)][\"en\"].sum() / q_degeneracy\n",
    "    print(\"ibn = %4d, FM = %10.4f, DW = %10.4f, FM+DW = %10.4f\"%(ibn,thisfm,thisdw,thisfm+thisdw))\n",
    "    df1 = df1.append({'ikr':1,'iq':3,'ibn':ibn,'FM':thisfm,'DW':thisdw,'weight':q_degeneracy},ignore_index=True,)"
   ]
  },
  {
   "cell_type": "code",
   "execution_count": 6,
   "metadata": {},
   "outputs": [
    {
     "name": "stdout",
     "output_type": "stream",
     "text": [
      "ibn =    1, FM = -7970.6496, DW =    64.7569, FM+DW = -7905.8927\n",
      "ibn =    2, FM =   781.5212, DW =  1225.6965, FM+DW =  2007.2177\n",
      "ibn =    3, FM =   781.5212, DW =  1225.6966, FM+DW =  2007.2178\n",
      "ibn =    4, FM =   781.5212, DW =  1225.6965, FM+DW =  2007.2176\n",
      "ibn =    5, FM =  2640.8524, DW =  1099.6566, FM+DW =  3740.5090\n",
      "ibn =    6, FM =  2640.8525, DW =  1099.6571, FM+DW =  3740.5095\n",
      "ibn =    7, FM =  2640.8524, DW =  1099.6637, FM+DW =  3740.5161\n",
      "ibn =    8, FM =  1067.9790, DW =    66.3788, FM+DW =  1134.3578\n"
     ]
    }
   ],
   "source": [
    "#### k = Gamma, index of q = 4\n",
    "q_degeneracy = 6\n",
    "q_selection = ( (fm[\"iq\"]==6) | (fm[\"iq\"]==16) | (fm[\"iq\"]==52) | (fm[\"iq\"]==18) | \n",
    "                (fm[\"iq\"]==21) | (fm[\"iq\"]==61) )\n",
    "for ibn in range(1,9):\n",
    "    thisfm = fm[(fm[\"ikr\"]==1) & ( q_selection ) & (fm[\"ibn\"]==ibn)][\"en\"].sum() / q_degeneracy\n",
    "    thisdw = dw[(dw[\"ikr\"]==1) & ( q_selection ) & (dw[\"ibn\"]==ibn)][\"en\"].sum() / q_degeneracy\n",
    "    print(\"ibn = %4d, FM = %10.4f, DW = %10.4f, FM+DW = %10.4f\"%(ibn,thisfm,thisdw,thisfm+thisdw))\n",
    "    df1 = df1.append({'ikr':1,'iq':4,'ibn':ibn,'FM':thisfm,'DW':thisdw,'weight':q_degeneracy},ignore_index=True,)"
   ]
  },
  {
   "cell_type": "code",
   "execution_count": 7,
   "metadata": {},
   "outputs": [
    {
     "name": "stdout",
     "output_type": "stream",
     "text": [
      "ibn =    1, FM = -1026.5594, DW =    53.8179, FM+DW =  -972.7415\n",
      "ibn =    2, FM =  -887.8722, DW =  1018.6472, FM+DW =   130.7750\n",
      "ibn =    3, FM =  -887.8722, DW =  1018.6472, FM+DW =   130.7751\n",
      "ibn =    4, FM =  -887.8722, DW =  1018.6471, FM+DW =   130.7750\n",
      "ibn =    5, FM = -2907.7930, DW =   913.8984, FM+DW = -1993.8946\n",
      "ibn =    6, FM = -2907.7930, DW =   913.8988, FM+DW = -1993.8942\n",
      "ibn =    7, FM = -2907.7930, DW =   913.9043, FM+DW = -1993.8887\n",
      "ibn =    8, FM =   497.5705, DW =    55.1658, FM+DW =   552.7364\n"
     ]
    }
   ],
   "source": [
    "#### k = Gamma, index of q = 5\n",
    "q_degeneracy = 24\n",
    "q_selection = ( (fm[\"iq\"]== 7) | (fm[\"iq\"]==59) | (fm[\"iq\"]==10) | (fm[\"iq\"]==32) | \n",
    "                (fm[\"iq\"]==47) | (fm[\"iq\"]==34) | (fm[\"iq\"]==56) | (fm[\"iq\"]==19) | \n",
    "                (fm[\"iq\"]==37) | (fm[\"iq\"]==62) | (fm[\"iq\"]==25) | (fm[\"iq\"]==44) | \n",
    "                (fm[\"iq\"]==15) | (fm[\"iq\"]==27) | (fm[\"iq\"]==12) | (fm[\"iq\"]==54) | \n",
    "                (fm[\"iq\"]==39) | (fm[\"iq\"]==36) | (fm[\"iq\"]==30) | (fm[\"iq\"]==51) | \n",
    "                (fm[\"iq\"]==45) | (fm[\"iq\"]==24) | (fm[\"iq\"]==57) | (fm[\"iq\"]==42) \n",
    "              )\n",
    "for ibn in range(1,9):\n",
    "    thisfm = fm[(fm[\"ikr\"]==1) & ( q_selection ) & (fm[\"ibn\"]==ibn)][\"en\"].sum() / q_degeneracy\n",
    "    thisdw = dw[(dw[\"ikr\"]==1) & ( q_selection ) & (dw[\"ibn\"]==ibn)][\"en\"].sum() / q_degeneracy\n",
    "    print(\"ibn = %4d, FM = %10.4f, DW = %10.4f, FM+DW = %10.4f\"%(ibn,thisfm,thisdw,thisfm+thisdw))\n",
    "    df1 = df1.append({'ikr':1,'iq':5,'ibn':ibn,'FM':thisfm,'DW':thisdw,'weight':q_degeneracy},ignore_index=True,)"
   ]
  },
  {
   "cell_type": "code",
   "execution_count": 8,
   "metadata": {},
   "outputs": [
    {
     "name": "stdout",
     "output_type": "stream",
     "text": [
      "ibn =    1, FM =  -111.5723, DW =    56.3043, FM+DW =   -55.2680\n",
      "ibn =    2, FM =  -954.6399, DW =  1065.7087, FM+DW =   111.0688\n",
      "ibn =    3, FM =  -954.6399, DW =  1065.7088, FM+DW =   111.0689\n",
      "ibn =    4, FM =  -954.6399, DW =  1065.7087, FM+DW =   111.0688\n",
      "ibn =    5, FM = -1176.9532, DW =   956.1205, FM+DW =  -220.8326\n",
      "ibn =    6, FM = -1176.9532, DW =   956.1209, FM+DW =  -220.8322\n",
      "ibn =    7, FM = -1176.9532, DW =   956.1267, FM+DW =  -220.8264\n",
      "ibn =    8, FM =  -839.1928, DW =    57.7145, FM+DW =  -781.4783\n"
     ]
    }
   ],
   "source": [
    "#### k = Gamma, index of q = 6\n",
    "q_degeneracy = 12\n",
    "q_selection = ( (fm[\"iq\"]== 8) | (fm[\"iq\"]==38) | (fm[\"iq\"]==14) | (fm[\"iq\"]==48) | \n",
    "                (fm[\"iq\"]==26) | (fm[\"iq\"]==50) | (fm[\"iq\"]==60) | (fm[\"iq\"]==20) | \n",
    "                (fm[\"iq\"]==53) | (fm[\"iq\"]==63) | (fm[\"iq\"]==29) | (fm[\"iq\"]==23)\n",
    "              )\n",
    "for ibn in range(1,9):\n",
    "    thisfm = fm[(fm[\"ikr\"]==1) & ( q_selection ) & (fm[\"ibn\"]==ibn)][\"en\"].sum() / q_degeneracy\n",
    "    thisdw = dw[(dw[\"ikr\"]==1) & ( q_selection ) & (dw[\"ibn\"]==ibn)][\"en\"].sum() / q_degeneracy\n",
    "    print(\"ibn = %4d, FM = %10.4f, DW = %10.4f, FM+DW = %10.4f\"%(ibn,thisfm,thisdw,thisfm+thisdw))\n",
    "    df1 = df1.append({'ikr':1,'iq':6,'ibn':ibn,'FM':thisfm,'DW':thisdw,'weight':q_degeneracy},ignore_index=True,)"
   ]
  },
  {
   "cell_type": "code",
   "execution_count": 9,
   "metadata": {},
   "outputs": [
    {
     "name": "stdout",
     "output_type": "stream",
     "text": [
      "ibn =    1, FM =  -632.0760, DW =    52.3089, FM+DW =  -579.7671\n",
      "ibn =    2, FM =  -915.9773, DW =   990.0849, FM+DW =    74.1076\n",
      "ibn =    3, FM =  -936.2208, DW =   990.0849, FM+DW =    53.8641\n",
      "ibn =    4, FM =  -911.4988, DW =   990.0848, FM+DW =    78.5860\n",
      "ibn =    5, FM =   700.8341, DW =   888.2732, FM+DW =  1589.1073\n",
      "ibn =    6, FM =   615.1651, DW =   888.2736, FM+DW =  1503.4387\n",
      "ibn =    7, FM =   919.4731, DW =   888.2790, FM+DW =  1807.7521\n",
      "ibn =    8, FM =  -166.8366, DW =    53.6190, FM+DW =  -113.2176\n"
     ]
    }
   ],
   "source": [
    "#### k = Gamma, index of q = 7, q = X\n",
    "q_degeneracy = 3\n",
    "q_selection = ( (fm[\"iq\"]==11) | (fm[\"iq\"]==35) | (fm[\"iq\"]==41) )\n",
    "for ibn in range(1,9):\n",
    "    thisfm = fm[(fm[\"ikr\"]==1) & ( q_selection ) & (fm[\"ibn\"]==ibn)][\"en\"].sum() / q_degeneracy\n",
    "    thisdw = dw[(dw[\"ikr\"]==1) & ( q_selection ) & (dw[\"ibn\"]==ibn)][\"en\"].sum() / q_degeneracy\n",
    "    print(\"ibn = %4d, FM = %10.4f, DW = %10.4f, FM+DW = %10.4f\"%(ibn,thisfm,thisdw,thisfm+thisdw))\n",
    "    df1 = df1.append({'ikr':1,'iq':7,'ibn':ibn,'FM':thisfm,'DW':thisdw,'weight':q_degeneracy},ignore_index=True,)"
   ]
  },
  {
   "cell_type": "code",
   "execution_count": 10,
   "metadata": {},
   "outputs": [
    {
     "name": "stdout",
     "output_type": "stream",
     "text": [
      "ibn =    1, FM =  -710.4489, DW =    50.6878, FM+DW =  -659.7611\n",
      "ibn =    2, FM =  -981.2851, DW =   959.4012, FM+DW =   -21.8839\n",
      "ibn =    3, FM =  -981.2851, DW =   959.4013, FM+DW =   -21.8838\n",
      "ibn =    4, FM =  -981.2851, DW =   959.4012, FM+DW =   -21.8839\n",
      "ibn =    5, FM = -1298.3276, DW =   860.7448, FM+DW =  -437.5828\n",
      "ibn =    6, FM = -1298.3276, DW =   860.7451, FM+DW =  -437.5824\n",
      "ibn =    7, FM = -1298.3276, DW =   860.7504, FM+DW =  -437.5772\n",
      "ibn =    8, FM =   135.6391, DW =    51.9573, FM+DW =   187.5964\n"
     ]
    }
   ],
   "source": [
    "#### k = Gamma, index of q = 8\n",
    "q_degeneracy = 6\n",
    "q_selection = ( (fm[\"iq\"]==28) | (fm[\"iq\"]==58) | (fm[\"iq\"]==31) |\n",
    "                (fm[\"iq\"]==55) | (fm[\"iq\"]==40) | (fm[\"iq\"]==46) )\n",
    "for ibn in range(1,9):\n",
    "    thisfm = fm[(fm[\"ikr\"]==1) & ( q_selection ) & (fm[\"ibn\"]==ibn)][\"en\"].sum() / q_degeneracy\n",
    "    thisdw = dw[(dw[\"ikr\"]==1) & ( q_selection ) & (dw[\"ibn\"]==ibn)][\"en\"].sum() / q_degeneracy\n",
    "    print(\"ibn = %4d, FM = %10.4f, DW = %10.4f, FM+DW = %10.4f\"%(ibn,thisfm,thisdw,thisfm+thisdw))\n",
    "    df1 = df1.append({'ikr':1,'iq':8,'ibn':ibn,'FM':thisfm,'DW':thisdw,'weight':q_degeneracy},ignore_index=True,)"
   ]
  },
  {
   "cell_type": "code",
   "execution_count": 11,
   "metadata": {},
   "outputs": [],
   "source": [
    "df1['ikr'] = df1['ikr'].astype(int)\n",
    "df1['iq'] = df1['iq'].astype(int)\n",
    "df1['ibn'] = df1['ibn'].astype(int)\n",
    "# df1['weight'] = df1['weight'] / sum(df1['weight'])\n",
    "df1.to_csv('EPCE_gamma_west.csv')"
   ]
  },
  {
   "cell_type": "code",
   "execution_count": null,
   "metadata": {},
   "outputs": [],
   "source": []
  },
  {
   "cell_type": "code",
   "execution_count": null,
   "metadata": {},
   "outputs": [],
   "source": []
  }
 ],
 "metadata": {
  "kernelspec": {
   "display_name": "Python 3",
   "language": "python",
   "name": "python3"
  },
  "language_info": {
   "codemirror_mode": {
    "name": "ipython",
    "version": 3
   },
   "file_extension": ".py",
   "mimetype": "text/x-python",
   "name": "python",
   "nbconvert_exporter": "python",
   "pygments_lexer": "ipython3",
   "version": "3.6.3"
  }
 },
 "nbformat": 4,
 "nbformat_minor": 2
}
