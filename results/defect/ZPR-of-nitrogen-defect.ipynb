{
 "cells": [
  {
   "cell_type": "code",
   "execution_count": 1,
   "id": "4eca14c1",
   "metadata": {},
   "outputs": [],
   "source": [
    "import numpy as np\n",
    "import pandas as pd"
   ]
  },
  {
   "cell_type": "code",
   "execution_count": 2,
   "id": "9e859874",
   "metadata": {},
   "outputs": [],
   "source": [
    "def extract_gap_zpr(prefix,vbm,cbm,enable_gw=False,adiabatic=True):\n",
    "    zpr_dft = 0\n",
    "    zpr_gw  = 0\n",
    "    if adiabatic:\n",
    "        fmfname = prefix +\"/reFMselfen_DFT_adi.tab\"\n",
    "    else:\n",
    "        fmfname = prefix +\"/reFMselfen_DFT_nad.tab\"\n",
    "    dwfname = prefix +\"/reDWselfen_DFT.tab\"\n",
    "    fm_dft = pd.read_csv(fmfname,skiprows=1,sep=\"\\\\s+\",names=[\"iks\",\"ibn\",\"en\",\"re\",\"im\"])\n",
    "    dw_dft = pd.read_csv(dwfname,skiprows=1,sep=\"\\\\s+\",names=[\"iks\",\"ibn\",\"en\",\"re\",\"im\"])\n",
    "    vbm_zpr_dft = fm_dft[fm_dft[\"ibn\"]==vbm].sort_values(by=\"en\").tail(1)[\"re\"].values[0] + dw_dft[dw_dft[\"ibn\"]==vbm].sort_values(by=\"en\").tail(1)[\"re\"].values[0]\n",
    "    cbm_zpr_dft = fm_dft[fm_dft[\"ibn\"]==cbm].sort_values(by=\"en\").head(1)[\"re\"].values[0] + dw_dft[dw_dft[\"ibn\"]==cbm].sort_values(by=\"en\").head(1)[\"re\"].values[0]\n",
    "    zpr_dft = cbm_zpr_dft - vbm_zpr_dft\n",
    "\n",
    "    if ( enable_gw ):\n",
    "        if adiabatic:\n",
    "            fmfname = prefix +\"/reFMselfen_eqpgw_adi.tab\"\n",
    "        else:\n",
    "            fmfname = prefix +\"/reFMselfen_eqpgw_nad.tab\"\n",
    "        dwfname = prefix +\"/reDWselfen_eqpgw.tab\"\n",
    "        fm_gw = pd.read_csv(fmfname,skiprows=1,sep=\"\\\\s+\",names=[\"iks\",\"ibn\",\"en\",\"re\",\"im\"])\n",
    "        dw_gw = pd.read_csv(dwfname,skiprows=1,sep=\"\\\\s+\",names=[\"iks\",\"ibn\",\"en\",\"re\",\"im\"])\n",
    "        vbm_zpr_gw = fm_gw[fm_gw[\"ibn\"]==vbm].sort_values(by=\"en\").tail(1)[\"re\"].values[0] + dw_gw[dw_gw[\"ibn\"]==vbm].sort_values(by=\"en\").tail(1)[\"re\"].values[0]\n",
    "        cbm_zpr_gw = fm_gw[fm_gw[\"ibn\"]==cbm].sort_values(by=\"en\").head(1)[\"re\"].values[0] + dw_gw[dw_gw[\"ibn\"]==cbm].sort_values(by=\"en\").head(1)[\"re\"].values[0]\n",
    "        zpr_gw = cbm_zpr_gw - vbm_zpr_gw\n",
    "    return zpr_dft, zpr_gw\n",
    "\n",
    "def extract_state_zpr(prefix,state_idx,enable_gw=False,adiabatic=True):\n",
    "    zpr_dft = 0\n",
    "    zpr_gw  = 0\n",
    "    if adiabatic:\n",
    "        fmfname = prefix +\"/reFMselfen_DFT_adi.tab\"\n",
    "    else:\n",
    "        fmfname = prefix +\"/reFMselfen_DFT_nad.tab\"\n",
    "    dwfname = prefix +\"/reDWselfen_DFT.tab\"\n",
    "    fm_dft = pd.read_csv(fmfname,skiprows=1,sep=\"\\\\s+\",names=[\"iks\",\"ibn\",\"en\",\"re\",\"im\"])\n",
    "    dw_dft = pd.read_csv(dwfname,skiprows=1,sep=\"\\\\s+\",names=[\"iks\",\"ibn\",\"en\",\"re\",\"im\"])\n",
    "    zpr_dft = fm_dft[fm_dft[\"ibn\"]==state_idx].sort_values(by=\"en\").tail(1)[\"re\"].values[0] + dw_dft[dw_dft[\"ibn\"]==state_idx].sort_values(by=\"en\").tail(1)[\"re\"].values[0]\n",
    "\n",
    "    if ( enable_gw ):\n",
    "        if adiabatic:\n",
    "            fmfname = prefix +\"/reFMselfen_eqpgw_adi.tab\"\n",
    "        else:\n",
    "            fmfname = prefix +\"/reFMselfen_eqpgw_nad.tab\"\n",
    "        dwfname = prefix +\"/reDWselfen_eqpgw.tab\"\n",
    "        fm_gw = pd.read_csv(fmfname,skiprows=1,sep=\"\\\\s+\",names=[\"iks\",\"ibn\",\"en\",\"re\",\"im\"])\n",
    "        dw_gw = pd.read_csv(dwfname,skiprows=1,sep=\"\\\\s+\",names=[\"iks\",\"ibn\",\"en\",\"re\",\"im\"])\n",
    "        zpr_gw = fm_gw[fm_gw[\"ibn\"]==state_idx].sort_values(by=\"en\").tail(1)[\"re\"].values[0] + dw_gw[dw_gw[\"ibn\"]==state_idx].sort_values(by=\"en\").tail(1)[\"re\"].values[0]\n",
    "    return zpr_dft, zpr_gw"
   ]
  },
  {
   "cell_type": "markdown",
   "id": "dd3dcd03",
   "metadata": {},
   "source": [
    "# 3x3x3 supercell"
   ]
  },
  {
   "cell_type": "code",
   "execution_count": 3,
   "id": "3ea91df6",
   "metadata": {},
   "outputs": [
    {
     "name": "stdout",
     "output_type": "stream",
     "text": [
      "Gap ZPRs:\n",
      "Adiabatic Gap ZPR@DFT = -322.4339\n",
      "Adiabatic Gap ZPR@GW = -339.3053\n",
      "Non-adiabatic Gap ZPR@DFT = -458.5773\n",
      "Non-adiabatic Gap ZPR@GW = -473.4750\n",
      "\n",
      "\n",
      "Defect state ZPRs:\n",
      "Adiabatic Defect ZPR@DFT =  22.1074\n",
      "Adiabatic Defect ZPR@GW =  32.5978\n",
      "Non-adiabatic Defect ZPR@DFT = 184.8465\n",
      "Non-adiabatic Defect ZPR@GW = 191.8492\n"
     ]
    }
   ],
   "source": [
    "prefix = \"./two-N-in-3x3x3-50Ry/n2.welph.save.pdep800\"\n",
    "gap_zpr_dft_adi, gap_zpr_gw_adi = extract_gap_zpr(prefix,vbm=108,cbm=110,enable_gw=True,adiabatic=True)\n",
    "gap_zpr_dft_nad, gap_zpr_gw_nad = extract_gap_zpr(prefix,vbm=108,cbm=110,enable_gw=True,adiabatic=False)\n",
    "\n",
    "defect_zpr_dft_adi, defect_zpr_gw_adi = extract_state_zpr(prefix,state_idx=109,enable_gw=True,adiabatic=True)\n",
    "defect_zpr_dft_nad, defect_zpr_gw_nad = extract_state_zpr(prefix,state_idx=109,enable_gw=True,adiabatic=False)\n",
    "\n",
    "print(\"Gap ZPRs:\")\n",
    "print(\"Adiabatic Gap ZPR@DFT = %8.4f\"%(gap_zpr_dft_adi))\n",
    "print(\"Adiabatic Gap ZPR@GW = %8.4f\"%(gap_zpr_gw_adi))\n",
    "print(\"Non-adiabatic Gap ZPR@DFT = %8.4f\"%(gap_zpr_dft_nad))\n",
    "print(\"Non-adiabatic Gap ZPR@GW = %8.4f\"%(gap_zpr_gw_nad))\n",
    "\n",
    "print(\"\\n\")\n",
    "print(\"Defect state ZPRs:\")\n",
    "print(\"Adiabatic Defect ZPR@DFT = %8.4f\"%(defect_zpr_dft_adi))\n",
    "print(\"Adiabatic Defect ZPR@GW = %8.4f\"%(defect_zpr_gw_adi))\n",
    "print(\"Non-adiabatic Defect ZPR@DFT = %8.4f\"%(defect_zpr_dft_nad))\n",
    "print(\"Non-adiabatic Defect ZPR@GW = %8.4f\"%(defect_zpr_gw_nad))"
   ]
  },
  {
   "cell_type": "code",
   "execution_count": null,
   "id": "8b54b331",
   "metadata": {},
   "outputs": [],
   "source": []
  },
  {
   "cell_type": "markdown",
   "id": "d4497b8c",
   "metadata": {},
   "source": [
    "# 4x4x4 supercell"
   ]
  },
  {
   "cell_type": "code",
   "execution_count": 4,
   "id": "df1520de",
   "metadata": {},
   "outputs": [
    {
     "name": "stdout",
     "output_type": "stream",
     "text": [
      "Gap ZPRs:\n",
      "Adiabatic Gap ZPR@DFT = -325.3108\n",
      "Adiabatic Gap ZPR@GW = -337.6538\n",
      "Non-adiabatic Gap ZPR@DFT = -162.0626\n",
      "Non-adiabatic Gap ZPR@GW = -172.5886\n",
      "\n",
      "\n",
      "Defect state ZPRs:\n",
      "Adiabatic Defect ZPR@DFT = -282.1572\n",
      "Adiabatic Defect ZPR@GW = -305.6400\n",
      "Non-adiabatic Defect ZPR@DFT = -308.0389\n",
      "Non-adiabatic Defect ZPR@GW = -327.6851\n"
     ]
    }
   ],
   "source": [
    "prefix = \"./two-B-in-4x4x4-50Ry/b.welph.save.pdep1000\"\n",
    "\n",
    "gap_zpr_dft_adi, gap_zpr_gw_adi = extract_gap_zpr(prefix,vbm=256,cbm=258,enable_gw=True,adiabatic=True)\n",
    "gap_zpr_dft_nad, gap_zpr_gw_nad = extract_gap_zpr(prefix,vbm=256,cbm=258,enable_gw=True,adiabatic=False)\n",
    "\n",
    "defect_zpr_dft_adi, defect_zpr_gw_adi = extract_state_zpr(prefix,state_idx=257,enable_gw=True,adiabatic=True)\n",
    "defect_zpr_dft_nad, defect_zpr_gw_nad = extract_state_zpr(prefix,state_idx=257,enable_gw=True,adiabatic=False)\n",
    "\n",
    "print(\"Gap ZPRs:\")\n",
    "print(\"Adiabatic Gap ZPR@DFT = %8.4f\"%(gap_zpr_dft_adi))\n",
    "print(\"Adiabatic Gap ZPR@GW = %8.4f\"%(gap_zpr_gw_adi))\n",
    "print(\"Non-adiabatic Gap ZPR@DFT = %8.4f\"%(gap_zpr_dft_nad))\n",
    "print(\"Non-adiabatic Gap ZPR@GW = %8.4f\"%(gap_zpr_gw_nad))\n",
    "\n",
    "print(\"\\n\")\n",
    "print(\"Defect state ZPRs:\")\n",
    "print(\"Adiabatic Defect ZPR@DFT = %8.4f\"%(defect_zpr_dft_adi))\n",
    "print(\"Adiabatic Defect ZPR@GW = %8.4f\"%(defect_zpr_gw_adi))\n",
    "print(\"Non-adiabatic Defect ZPR@DFT = %8.4f\"%(defect_zpr_dft_nad))\n",
    "print(\"Non-adiabatic Defect ZPR@GW = %8.4f\"%(defect_zpr_gw_nad))"
   ]
  },
  {
   "cell_type": "code",
   "execution_count": null,
   "id": "23dcdbd3",
   "metadata": {},
   "outputs": [],
   "source": []
  },
  {
   "cell_type": "markdown",
   "id": "cd41b2d6",
   "metadata": {},
   "source": [
    "# 5x5x5 supercell"
   ]
  },
  {
   "cell_type": "code",
   "execution_count": 5,
   "id": "e44fea68",
   "metadata": {},
   "outputs": [
    {
     "name": "stdout",
     "output_type": "stream",
     "text": [
      "Gap ZPRs:\n",
      "Adiabatic Gap ZPR@DFT = -242.4460\n",
      "Adiabatic Gap ZPR@GW = -227.2851\n",
      "Non-adiabatic Gap ZPR@DFT = -85.6817\n",
      "Non-adiabatic Gap ZPR@GW = -75.5222\n",
      "\n",
      "\n",
      "Defect state ZPRs:\n",
      "Adiabatic Defect ZPR@DFT = -204.7324\n",
      "Adiabatic Defect ZPR@GW = -201.8057\n",
      "Non-adiabatic Defect ZPR@DFT = -215.9887\n",
      "Non-adiabatic Defect ZPR@GW = -216.8360\n"
     ]
    }
   ],
   "source": [
    "prefix = \"./two-B-in-5x5x5-50Ry/b.welph.save.pdep1200\"\n",
    "\n",
    "gap_zpr_dft_adi, gap_zpr_gw_adi = extract_gap_zpr(prefix,vbm=500,cbm=502,enable_gw=True,adiabatic=True)\n",
    "gap_zpr_dft_nad, gap_zpr_gw_nad = extract_gap_zpr(prefix,vbm=500,cbm=502,enable_gw=True,adiabatic=False)\n",
    "\n",
    "defect_zpr_dft_adi, defect_zpr_gw_adi = extract_state_zpr(prefix,state_idx=501,enable_gw=True,adiabatic=True)\n",
    "defect_zpr_dft_nad, defect_zpr_gw_nad = extract_state_zpr(prefix,state_idx=501,enable_gw=True,adiabatic=False)\n",
    "\n",
    "print(\"Gap ZPRs:\")\n",
    "print(\"Adiabatic Gap ZPR@DFT = %8.4f\"%(gap_zpr_dft_adi))\n",
    "print(\"Adiabatic Gap ZPR@GW = %8.4f\"%(gap_zpr_gw_adi))\n",
    "print(\"Non-adiabatic Gap ZPR@DFT = %8.4f\"%(gap_zpr_dft_nad))\n",
    "print(\"Non-adiabatic Gap ZPR@GW = %8.4f\"%(gap_zpr_gw_nad))\n",
    "\n",
    "print(\"\\n\")\n",
    "print(\"Defect state ZPRs:\")\n",
    "print(\"Adiabatic Defect ZPR@DFT = %8.4f\"%(defect_zpr_dft_adi))\n",
    "print(\"Adiabatic Defect ZPR@GW = %8.4f\"%(defect_zpr_gw_adi))\n",
    "print(\"Non-adiabatic Defect ZPR@DFT = %8.4f\"%(defect_zpr_dft_nad))\n",
    "print(\"Non-adiabatic Defect ZPR@GW = %8.4f\"%(defect_zpr_gw_nad))\n"
   ]
  },
  {
   "cell_type": "code",
   "execution_count": null,
   "id": "ff1f50cc",
   "metadata": {},
   "outputs": [],
   "source": []
  }
 ],
 "metadata": {
  "kernelspec": {
   "display_name": "Python 3 (ipykernel)",
   "language": "python",
   "name": "python3"
  },
  "language_info": {
   "codemirror_mode": {
    "name": "ipython",
    "version": 3
   },
   "file_extension": ".py",
   "mimetype": "text/x-python",
   "name": "python",
   "nbconvert_exporter": "python",
   "pygments_lexer": "ipython3",
   "version": "3.9.9"
  }
 },
 "nbformat": 4,
 "nbformat_minor": 5
}
